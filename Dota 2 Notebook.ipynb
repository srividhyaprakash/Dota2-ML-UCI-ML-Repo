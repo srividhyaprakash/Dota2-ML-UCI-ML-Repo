{
 "cells": [
  {
   "cell_type": "code",
   "execution_count": 1,
   "metadata": {},
   "outputs": [],
   "source": [
    "import pandas as pd\n",
    "import numpy as np\n",
    "import sklearn\n",
    "import json"
   ]
  },
  {
   "cell_type": "code",
   "execution_count": 2,
   "metadata": {
    "scrolled": true
   },
   "outputs": [
    {
     "name": "stdout",
     "output_type": "stream",
     "text": [
      "117 113\n"
     ]
    }
   ],
   "source": [
    "with open('heroes.json') as json_data:\n",
    "    d = json.load(json_data)\n",
    "d[\"heroes\"]\n",
    "heroes = [\"Radiant_Dire\", \"Cluster ID\", \"Game Mode\", \"Game Type\"]\n",
    "count = 0\n",
    "for dicts in d[\"heroes\"]:\n",
    "    heroes.append(dicts[\"name\"])\n",
    "    count +=1\n",
    "print(len(heroes), count)\n"
   ]
  },
  {
   "cell_type": "code",
   "execution_count": 55,
   "metadata": {},
   "outputs": [],
   "source": [
    "# Load the data\n",
    "df = pd.read_csv(\"dota2Train.csv\", header=None, names=heroes)"
   ]
  },
  {
   "cell_type": "code",
   "execution_count": 4,
   "metadata": {},
   "outputs": [
    {
     "data": {
      "text/html": [
       "<div>\n",
       "<style scoped>\n",
       "    .dataframe tbody tr th:only-of-type {\n",
       "        vertical-align: middle;\n",
       "    }\n",
       "\n",
       "    .dataframe tbody tr th {\n",
       "        vertical-align: top;\n",
       "    }\n",
       "\n",
       "    .dataframe thead th {\n",
       "        text-align: right;\n",
       "    }\n",
       "</style>\n",
       "<table border=\"1\" class=\"dataframe\">\n",
       "  <thead>\n",
       "    <tr style=\"text-align: right;\">\n",
       "      <th></th>\n",
       "      <th>Radiant_Dire</th>\n",
       "      <th>Cluster ID</th>\n",
       "      <th>Game Mode</th>\n",
       "      <th>Game Type</th>\n",
       "      <th>antimage</th>\n",
       "      <th>axe</th>\n",
       "      <th>bane</th>\n",
       "      <th>bloodseeker</th>\n",
       "      <th>crystal_maiden</th>\n",
       "      <th>drow_ranger</th>\n",
       "      <th>...</th>\n",
       "      <th>legion_commander</th>\n",
       "      <th>techies</th>\n",
       "      <th>ember_spirit</th>\n",
       "      <th>earth_spirit</th>\n",
       "      <th>abyssal_underlord</th>\n",
       "      <th>terrorblade</th>\n",
       "      <th>phoenix</th>\n",
       "      <th>oracle</th>\n",
       "      <th>winter_wyvern</th>\n",
       "      <th>arc_warden</th>\n",
       "    </tr>\n",
       "  </thead>\n",
       "  <tbody>\n",
       "    <tr>\n",
       "      <th>0</th>\n",
       "      <td>-1</td>\n",
       "      <td>223</td>\n",
       "      <td>2</td>\n",
       "      <td>2</td>\n",
       "      <td>0</td>\n",
       "      <td>0</td>\n",
       "      <td>0</td>\n",
       "      <td>0</td>\n",
       "      <td>0</td>\n",
       "      <td>0</td>\n",
       "      <td>...</td>\n",
       "      <td>0</td>\n",
       "      <td>0</td>\n",
       "      <td>0</td>\n",
       "      <td>0</td>\n",
       "      <td>0</td>\n",
       "      <td>0</td>\n",
       "      <td>0</td>\n",
       "      <td>0</td>\n",
       "      <td>0</td>\n",
       "      <td>0</td>\n",
       "    </tr>\n",
       "    <tr>\n",
       "      <th>1</th>\n",
       "      <td>1</td>\n",
       "      <td>152</td>\n",
       "      <td>2</td>\n",
       "      <td>2</td>\n",
       "      <td>0</td>\n",
       "      <td>0</td>\n",
       "      <td>0</td>\n",
       "      <td>1</td>\n",
       "      <td>0</td>\n",
       "      <td>-1</td>\n",
       "      <td>...</td>\n",
       "      <td>0</td>\n",
       "      <td>0</td>\n",
       "      <td>0</td>\n",
       "      <td>0</td>\n",
       "      <td>0</td>\n",
       "      <td>0</td>\n",
       "      <td>0</td>\n",
       "      <td>0</td>\n",
       "      <td>0</td>\n",
       "      <td>0</td>\n",
       "    </tr>\n",
       "    <tr>\n",
       "      <th>2</th>\n",
       "      <td>1</td>\n",
       "      <td>131</td>\n",
       "      <td>2</td>\n",
       "      <td>2</td>\n",
       "      <td>0</td>\n",
       "      <td>0</td>\n",
       "      <td>0</td>\n",
       "      <td>1</td>\n",
       "      <td>0</td>\n",
       "      <td>-1</td>\n",
       "      <td>...</td>\n",
       "      <td>0</td>\n",
       "      <td>0</td>\n",
       "      <td>0</td>\n",
       "      <td>0</td>\n",
       "      <td>0</td>\n",
       "      <td>0</td>\n",
       "      <td>0</td>\n",
       "      <td>0</td>\n",
       "      <td>0</td>\n",
       "      <td>0</td>\n",
       "    </tr>\n",
       "    <tr>\n",
       "      <th>3</th>\n",
       "      <td>1</td>\n",
       "      <td>154</td>\n",
       "      <td>2</td>\n",
       "      <td>2</td>\n",
       "      <td>0</td>\n",
       "      <td>0</td>\n",
       "      <td>0</td>\n",
       "      <td>0</td>\n",
       "      <td>0</td>\n",
       "      <td>0</td>\n",
       "      <td>...</td>\n",
       "      <td>-1</td>\n",
       "      <td>0</td>\n",
       "      <td>0</td>\n",
       "      <td>0</td>\n",
       "      <td>0</td>\n",
       "      <td>0</td>\n",
       "      <td>0</td>\n",
       "      <td>0</td>\n",
       "      <td>0</td>\n",
       "      <td>0</td>\n",
       "    </tr>\n",
       "    <tr>\n",
       "      <th>4</th>\n",
       "      <td>-1</td>\n",
       "      <td>171</td>\n",
       "      <td>2</td>\n",
       "      <td>3</td>\n",
       "      <td>0</td>\n",
       "      <td>0</td>\n",
       "      <td>0</td>\n",
       "      <td>0</td>\n",
       "      <td>0</td>\n",
       "      <td>-1</td>\n",
       "      <td>...</td>\n",
       "      <td>0</td>\n",
       "      <td>0</td>\n",
       "      <td>0</td>\n",
       "      <td>0</td>\n",
       "      <td>0</td>\n",
       "      <td>0</td>\n",
       "      <td>0</td>\n",
       "      <td>0</td>\n",
       "      <td>0</td>\n",
       "      <td>0</td>\n",
       "    </tr>\n",
       "  </tbody>\n",
       "</table>\n",
       "<p>5 rows × 117 columns</p>\n",
       "</div>"
      ],
      "text/plain": [
       "   Radiant_Dire  Cluster ID  Game Mode  Game Type  antimage  axe  bane  \\\n",
       "0            -1         223          2          2         0    0     0   \n",
       "1             1         152          2          2         0    0     0   \n",
       "2             1         131          2          2         0    0     0   \n",
       "3             1         154          2          2         0    0     0   \n",
       "4            -1         171          2          3         0    0     0   \n",
       "\n",
       "   bloodseeker  crystal_maiden  drow_ranger     ...      legion_commander  \\\n",
       "0            0               0            0     ...                     0   \n",
       "1            1               0           -1     ...                     0   \n",
       "2            1               0           -1     ...                     0   \n",
       "3            0               0            0     ...                    -1   \n",
       "4            0               0           -1     ...                     0   \n",
       "\n",
       "   techies  ember_spirit  earth_spirit  abyssal_underlord  terrorblade  \\\n",
       "0        0             0             0                  0            0   \n",
       "1        0             0             0                  0            0   \n",
       "2        0             0             0                  0            0   \n",
       "3        0             0             0                  0            0   \n",
       "4        0             0             0                  0            0   \n",
       "\n",
       "   phoenix  oracle  winter_wyvern  arc_warden  \n",
       "0        0       0              0           0  \n",
       "1        0       0              0           0  \n",
       "2        0       0              0           0  \n",
       "3        0       0              0           0  \n",
       "4        0       0              0           0  \n",
       "\n",
       "[5 rows x 117 columns]"
      ]
     },
     "execution_count": 4,
     "metadata": {},
     "output_type": "execute_result"
    }
   ],
   "source": [
    "df.head()"
   ]
  },
  {
   "cell_type": "code",
   "execution_count": 56,
   "metadata": {
    "scrolled": false
   },
   "outputs": [
    {
     "data": {
      "text/plain": [
       "(92650, 117)"
      ]
     },
     "execution_count": 56,
     "metadata": {},
     "output_type": "execute_result"
    }
   ],
   "source": [
    "df.shape"
   ]
  },
  {
   "cell_type": "code",
   "execution_count": null,
   "metadata": {
    "scrolled": false
   },
   "outputs": [],
   "source": [
    "# We see that Cluster ID corresponds to where the server is , this shouldnt matter, so we must one-hot enocde it\n",
    "df.groupby(\"Cluster ID\").size()"
   ]
  },
  {
   "cell_type": "code",
   "execution_count": null,
   "metadata": {
    "scrolled": true
   },
   "outputs": [],
   "source": [
    "# one hot encoding the same\n",
    "pd.get_dummies(df[\"Cluster ID\"], prefix=\"cluster\")"
   ]
  },
  {
   "cell_type": "code",
   "execution_count": 59,
   "metadata": {
    "scrolled": false
   },
   "outputs": [
    {
     "data": {
      "text/plain": [
       "Game Mode\n",
       "1     1229\n",
       "2    71897\n",
       "3      386\n",
       "4      208\n",
       "5       12\n",
       "6      498\n",
       "7       81\n",
       "8     8306\n",
       "9    10033\n",
       "dtype: int64"
      ]
     },
     "execution_count": 59,
     "metadata": {},
     "output_type": "execute_result"
    }
   ],
   "source": [
    "# We see that Game mode is the just the mode, like pratice or co-op or ranked or teammatch, again we must one-hot encode this as well \n",
    "df.groupby(\"Game Mode\").size()"
   ]
  },
  {
   "cell_type": "code",
   "execution_count": 60,
   "metadata": {},
   "outputs": [
    {
     "data": {
      "text/plain": [
       "Game Type\n",
       "1       15\n",
       "2    56988\n",
       "3    35647\n",
       "dtype: int64"
      ]
     },
     "execution_count": 60,
     "metadata": {},
     "output_type": "execute_result"
    }
   ],
   "source": [
    "# Unsure why this is there\n",
    "df.groupby(\"Game Type\").size()"
   ]
  },
  {
   "cell_type": "code",
   "execution_count": 15,
   "metadata": {},
   "outputs": [
    {
     "data": {
      "text/plain": [
       "Index(['Radiant_Dire', 'Cluster ID', 'Game Mode', 'Game Type', 'antimage',\n",
       "       'axe', 'bane', 'bloodseeker', 'crystal_maiden', 'drow_ranger',\n",
       "       ...\n",
       "       'legion_commander', 'techies', 'ember_spirit', 'earth_spirit',\n",
       "       'abyssal_underlord', 'terrorblade', 'phoenix', 'oracle',\n",
       "       'winter_wyvern', 'arc_warden'],\n",
       "      dtype='object', length=117)"
      ]
     },
     "execution_count": 15,
     "metadata": {},
     "output_type": "execute_result"
    }
   ],
   "source": [
    "df.keys()"
   ]
  },
  {
   "cell_type": "code",
   "execution_count": 61,
   "metadata": {},
   "outputs": [],
   "source": [
    "# Having which heros is of no use, knowing what type of heros they are, is very very useful\n",
    "# Wrote a parser script to parse the official DOTA website to collect the hero traits like pusher, nuker, carry, off-lane and so on \n",
    "hero_names = df.keys()[4:]\n"
   ]
  },
  {
   "cell_type": "code",
   "execution_count": 19,
   "metadata": {},
   "outputs": [
    {
     "data": {
      "text/plain": [
       "Index(['antimage', 'axe', 'bane', 'bloodseeker', 'crystal_maiden',\n",
       "       'drow_ranger', 'earthshaker', 'juggernaut', 'mirana', 'morphling',\n",
       "       ...\n",
       "       'legion_commander', 'techies', 'ember_spirit', 'earth_spirit',\n",
       "       'abyssal_underlord', 'terrorblade', 'phoenix', 'oracle',\n",
       "       'winter_wyvern', 'arc_warden'],\n",
       "      dtype='object', length=113)"
      ]
     },
     "execution_count": 19,
     "metadata": {},
     "output_type": "execute_result"
    }
   ],
   "source": [
    "# getting the hero names in the dataframe\n",
    "hero_names"
   ]
  },
  {
   "cell_type": "code",
   "execution_count": 21,
   "metadata": {},
   "outputs": [],
   "source": [
    "# the modified json file with the hero traits\n",
    "with open(\"heroes_modified.json\") as hero_json:\n",
    "    data = json.load(hero_json)"
   ]
  },
  {
   "cell_type": "code",
   "execution_count": 25,
   "metadata": {},
   "outputs": [],
   "source": [
    "hero_name_from_file=[]"
   ]
  },
  {
   "cell_type": "code",
   "execution_count": 27,
   "metadata": {},
   "outputs": [],
   "source": [
    "for hero in data[\"heroes\"]:\n",
    "    hero_name_from_file.append(hero[\"name\"])"
   ]
  },
  {
   "cell_type": "code",
   "execution_count": 62,
   "metadata": {},
   "outputs": [
    {
     "data": {
      "text/plain": [
       "array([ True,  True,  True,  True,  True,  True,  True,  True,  True,\n",
       "        True,  True,  True,  True,  True,  True,  True,  True,  True,\n",
       "        True,  True,  True,  True,  True,  True,  True,  True,  True,\n",
       "        True,  True,  True,  True,  True,  True,  True,  True,  True,\n",
       "        True,  True,  True,  True,  True,  True,  True,  True,  True,\n",
       "        True,  True,  True,  True,  True,  True,  True,  True,  True,\n",
       "        True,  True,  True,  True,  True,  True,  True,  True,  True,\n",
       "        True,  True,  True,  True,  True,  True,  True,  True,  True,\n",
       "        True,  True,  True,  True,  True,  True,  True,  True,  True,\n",
       "        True,  True,  True,  True,  True,  True,  True,  True,  True,\n",
       "        True,  True,  True,  True,  True,  True,  True,  True,  True,\n",
       "        True,  True,  True,  True,  True,  True,  True,  True,  True,\n",
       "        True,  True,  True,  True,  True])"
      ]
     },
     "execution_count": 62,
     "metadata": {},
     "output_type": "execute_result"
    }
   ],
   "source": [
    "# first check if all the hero names in the modified json file correspond to the exact same columns in the data frame\n",
    "hero_name_from_file == hero_names"
   ]
  },
  {
   "cell_type": "code",
   "execution_count": 29,
   "metadata": {},
   "outputs": [],
   "source": [
    "# Substitute the game mode number with the more meaningful strings of what they represent\n",
    "# executed in the below four cells + this one \n",
    "with open(\"lobbies.json\") as lobby_json:\n",
    "    lobby_data = json.load(lobby_json)\n",
    "    "
   ]
  },
  {
   "cell_type": "code",
   "execution_count": 32,
   "metadata": {},
   "outputs": [],
   "source": [
    "lobby_data[\"lobbies\"] = lobby_data[\"lobbies\"][1:]"
   ]
  },
  {
   "cell_type": "code",
   "execution_count": 34,
   "metadata": {},
   "outputs": [],
   "source": [
    "for value in lobby_data[\"lobbies\"]:\n",
    "    value[\"id\"] += 1"
   ]
  },
  {
   "cell_type": "code",
   "execution_count": 35,
   "metadata": {},
   "outputs": [
    {
     "data": {
      "text/plain": [
       "[{'id': 1, 'name': 'Public matchmaking'},\n",
       " {'id': 2, 'name': 'Practice'},\n",
       " {'id': 3, 'name': 'Tournament'},\n",
       " {'id': 4, 'name': 'Tutorial'},\n",
       " {'id': 5, 'name': 'Co-op with bots'},\n",
       " {'id': 6, 'name': 'Team match'},\n",
       " {'id': 7, 'name': 'Solo Queue'},\n",
       " {'id': 8, 'name': 'Ranked'},\n",
       " {'id': 9, 'name': 'Solo Mid 1vs1'}]"
      ]
     },
     "execution_count": 35,
     "metadata": {},
     "output_type": "execute_result"
    }
   ],
   "source": [
    "lobby_data[\"lobbies\"]"
   ]
  },
  {
   "cell_type": "code",
   "execution_count": 64,
   "metadata": {},
   "outputs": [
    {
     "name": "stdout",
     "output_type": "stream",
     "text": [
      "0\n"
     ]
    },
    {
     "ename": "TypeError",
     "evalue": "unsupported operand type(s) for -: 'str' and 'int'",
     "output_type": "error",
     "traceback": [
      "\u001b[0;31m---------------------------------------------------------------------------\u001b[0m",
      "\u001b[0;31mTypeError\u001b[0m                                 Traceback (most recent call last)",
      "\u001b[0;32m<ipython-input-64-950e5dd30ade>\u001b[0m in \u001b[0;36m<module>\u001b[0;34m()\u001b[0m\n\u001b[1;32m      1\u001b[0m \u001b[0;32mfor\u001b[0m \u001b[0mk\u001b[0m \u001b[0;34m,\u001b[0m\u001b[0mv\u001b[0m \u001b[0;32min\u001b[0m \u001b[0mdf\u001b[0m\u001b[0;34m[\u001b[0m\u001b[0;34m\"Game Mode\"\u001b[0m\u001b[0;34m]\u001b[0m\u001b[0;34m.\u001b[0m\u001b[0mitems\u001b[0m\u001b[0;34m(\u001b[0m\u001b[0;34m)\u001b[0m\u001b[0;34m:\u001b[0m\u001b[0;34m\u001b[0m\u001b[0m\n\u001b[1;32m      2\u001b[0m     \u001b[0mprint\u001b[0m\u001b[0;34m(\u001b[0m\u001b[0mk\u001b[0m\u001b[0;34m)\u001b[0m\u001b[0;34m\u001b[0m\u001b[0m\n\u001b[0;32m----> 3\u001b[0;31m     \u001b[0mdf\u001b[0m\u001b[0;34m[\u001b[0m\u001b[0;34m\"Game Mode\"\u001b[0m\u001b[0;34m]\u001b[0m\u001b[0;34m[\u001b[0m\u001b[0mk\u001b[0m\u001b[0;34m]\u001b[0m \u001b[0;34m=\u001b[0m \u001b[0mlobby_data\u001b[0m\u001b[0;34m[\u001b[0m\u001b[0;34m\"lobbies\"\u001b[0m\u001b[0;34m]\u001b[0m\u001b[0;34m[\u001b[0m\u001b[0mv\u001b[0m\u001b[0;34m-\u001b[0m\u001b[0;36m1\u001b[0m\u001b[0;34m]\u001b[0m\u001b[0;34m[\u001b[0m\u001b[0;34m\"name\"\u001b[0m\u001b[0;34m]\u001b[0m\u001b[0;34m\u001b[0m\u001b[0m\n\u001b[0m\u001b[1;32m      4\u001b[0m \u001b[0;34m\u001b[0m\u001b[0m\n",
      "\u001b[0;31mTypeError\u001b[0m: unsupported operand type(s) for -: 'str' and 'int'"
     ]
    }
   ],
   "source": [
    "for k ,v in df[\"Game Mode\"].items():\n",
    "    print(k)\n",
    "    df[\"Game Mode\"][k] = lobby_data[\"lobbies\"][v-1][\"name\"]\n",
    "    "
   ]
  },
  {
   "cell_type": "code",
   "execution_count": 65,
   "metadata": {},
   "outputs": [
    {
     "data": {
      "text/plain": [
       "92645    2\n",
       "92646    2\n",
       "92647    2\n",
       "92648    2\n",
       "92649    2\n",
       "Name: Game Mode, dtype: object"
      ]
     },
     "execution_count": 65,
     "metadata": {},
     "output_type": "execute_result"
    }
   ],
   "source": [
    "df[\"Game Mode\"].tail()"
   ]
  },
  {
   "cell_type": "code",
   "execution_count": 66,
   "metadata": {},
   "outputs": [
    {
     "data": {
      "text/plain": [
       "Game Mode\n",
       "1                       105\n",
       "2                      6567\n",
       "3                        32\n",
       "4                        19\n",
       "6                        46\n",
       "7                         7\n",
       "8                       700\n",
       "9                       895\n",
       "Co-op with bots          12\n",
       "Practice              65330\n",
       "Public matchmaking     1124\n",
       "Ranked                 7606\n",
       "Solo Mid 1vs1          9138\n",
       "Solo Queue               74\n",
       "Team match              452\n",
       "Tournament              354\n",
       "Tutorial                189\n",
       "dtype: int64"
      ]
     },
     "execution_count": 66,
     "metadata": {},
     "output_type": "execute_result"
    }
   ],
   "source": [
    "df.groupby(\"Game Mode\").size()"
   ]
  },
  {
   "cell_type": "code",
   "execution_count": null,
   "metadata": {},
   "outputs": [],
   "source": []
  }
 ],
 "metadata": {
  "kernelspec": {
   "display_name": "Python [default]",
   "language": "python",
   "name": "python3"
  },
  "language_info": {
   "codemirror_mode": {
    "name": "ipython",
    "version": 3
   },
   "file_extension": ".py",
   "mimetype": "text/x-python",
   "name": "python",
   "nbconvert_exporter": "python",
   "pygments_lexer": "ipython3",
   "version": "3.6.6"
  }
 },
 "nbformat": 4,
 "nbformat_minor": 2
}
